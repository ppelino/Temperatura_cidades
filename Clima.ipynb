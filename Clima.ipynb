{
 "cells": [
  {
   "cell_type": "markdown",
   "id": "f798d5bc",
   "metadata": {},
   "source": [
    "Criação de um programa para fazer buscas em um conjunto de dados ou em uma fonte online. Por exemplo, podemos criar um programa que busca informações sobre o clima de uma cidade específica utilizando APIs."
   ]
  },
  {
   "cell_type": "markdown",
   "id": "9c9a0239",
   "metadata": {},
   "source": [
    "Escolha da API:\n",
    "Pesquise e escolha uma API de previsão do tempo. Uma boa opção é a OpenWeatherMap (https://openweathermap.org/api), que oferece um plano gratuito com acesso limitado, mas suficiente para nosso propósito."
   ]
  },
  {
   "cell_type": "markdown",
   "id": "0891df5a",
   "metadata": {},
   "source": [
    "Cadastro e obtenção da chave de API:\n",
    "Registre-se na plataforma e obtenha uma chave de API para poder fazer as solicitações. A chave geralmente é necessária para autenticação nas solicitações à API."
   ]
  },
  {
   "cell_type": "markdown",
   "id": "51da3105",
   "metadata": {},
   "source": [
    "Instalação de bibliotecas necessárias:\n",
    "Utilizaremos a biblioteca requests para realizar solicitações HTTP à API e a json para lidar com os dados recebidos.\n",
    "\n",
    "Você pode instalar as bibliotecas utilizando o pip no terminal:"
   ]
  },
  {
   "cell_type": "code",
   "execution_count": 1,
   "id": "34e9220a",
   "metadata": {},
   "outputs": [
    {
     "name": "stdout",
     "output_type": "stream",
     "text": [
      "Requirement already satisfied: requests in c:\\users\\ppeli\\anaconda3.11\\lib\\site-packages (2.28.1)\n",
      "Requirement already satisfied: charset-normalizer<3,>=2 in c:\\users\\ppeli\\anaconda3.11\\lib\\site-packages (from requests) (2.0.4)\n",
      "Requirement already satisfied: urllib3<1.27,>=1.21.1 in c:\\users\\ppeli\\anaconda3.11\\lib\\site-packages (from requests) (1.26.16)\n",
      "Requirement already satisfied: certifi>=2017.4.17 in c:\\users\\ppeli\\anaconda3.11\\lib\\site-packages (from requests) (2023.7.22)\n",
      "Requirement already satisfied: idna<4,>=2.5 in c:\\users\\ppeli\\anaconda3.11\\lib\\site-packages (from requests) (3.4)\n",
      "Note: you may need to restart the kernel to use updated packages.\n"
     ]
    },
    {
     "name": "stderr",
     "output_type": "stream",
     "text": [
      "WARNING: Ignoring invalid distribution -atplotlib (c:\\users\\ppeli\\anaconda3.11\\lib\\site-packages)\n",
      "WARNING: Ignoring invalid distribution -atplotlib (c:\\users\\ppeli\\anaconda3.11\\lib\\site-packages)\n",
      "WARNING: Ignoring invalid distribution -atplotlib (c:\\users\\ppeli\\anaconda3.11\\lib\\site-packages)\n",
      "WARNING: Ignoring invalid distribution -atplotlib (c:\\users\\ppeli\\anaconda3.11\\lib\\site-packages)\n",
      "WARNING: Ignoring invalid distribution -atplotlib (c:\\users\\ppeli\\anaconda3.11\\lib\\site-packages)\n",
      "WARNING: Ignoring invalid distribution -atplotlib (c:\\users\\ppeli\\anaconda3.11\\lib\\site-packages)\n"
     ]
    }
   ],
   "source": [
    "pip install requests\n"
   ]
  },
  {
   "cell_type": "code",
   "execution_count": null,
   "id": "bc541f44",
   "metadata": {},
   "outputs": [],
   "source": [
    "Desenvolvimento do código:"
   ]
  },
  {
   "cell_type": "code",
   "execution_count": 9,
   "id": "7a462457",
   "metadata": {
    "scrolled": true
   },
   "outputs": [
    {
     "name": "stdout",
     "output_type": "stream",
     "text": [
      "Digite o nome da cidade para verificar o clima: suzano\n",
      "Condições climáticas em suzano:\n",
      "Temperatura: 27.899999999999977\n",
      "Clima: nublado\n"
     ]
    }
   ],
   "source": [
    "import requests\n",
    "import json\n",
    "\n",
    "\n",
    "def buscar_clima(cidade, api_key):\n",
    "    url = f\"http://api.openweathermap.org/data/2.5/weather?q={cidade}&appid={api_key}&lang=pt_br\"\n",
    "    resposta = requests.get(url)\n",
    "\n",
    "    if resposta.status_code == 200:\n",
    "        dados = resposta.json()\n",
    "        print(f\"Condições climáticas em {cidade}:\")\n",
    "        print(f\"Temperatura: {dados['main']['temp']-273}\")\n",
    "        print(f\"Clima: {dados['weather'][0]['description']}\")\n",
    "    else:\n",
    "        print(\"Não foi possível obter informações. Verifique o nome da cidade ou a sua conexão com a internet.\")\n",
    "\n",
    "\n",
    "# Chave de API obtida após registro na OpenWeatherMap\n",
    "minha_api_key = \"7f2e5d32dafe753e0f24e9fcaa338b9d\"\n",
    "\n",
    "# Solicitação de entrada da cidade ao usuário\n",
    "cidade_busca = input(\"Digite o nome da cidade para verificar o clima: \")\n",
    "buscar_clima(cidade_busca, minha_api_key)"
   ]
  },
  {
   "cell_type": "markdown",
   "id": "8ee436f1",
   "metadata": {},
   "source": [
    "Execução do código:\n",
    "Execute o código em um ambiente Python. Ele solicitará que você insira o nome de uma cidade e mostrará a temperatura e as condições climáticas atuais."
   ]
  },
  {
   "cell_type": "markdown",
   "id": "f2e0ea7a",
   "metadata": {},
   "source": [
    "Aprimoramentos opcionais:\n",
    "\n",
    "Adicione tratamento de erros para lidar com conexões perdidas ou erros de entrada do usuário.\n",
    "Permita a busca por outras informações, como previsão para os próximos dias.\n",
    "Melhore a interface do usuário ou exibição dos resultados.\n",
    "Este projeto oferece um bom ponto de partida para explorar APIs, manipulação de dados JSON e solicitações HTTP em Python. Lembre-se sempre de respeitar os termos de uso da API que estiver utilizando e considere aprimorar o código conforme necessário para atender às suas necessidades específicas.\n",
    "\n",
    "\n",
    "\n",
    "\n"
   ]
  }
 ],
 "metadata": {
  "kernelspec": {
   "display_name": "Python 3 (ipykernel)",
   "language": "python",
   "name": "python3"
  },
  "language_info": {
   "codemirror_mode": {
    "name": "ipython",
    "version": 3
   },
   "file_extension": ".py",
   "mimetype": "text/x-python",
   "name": "python",
   "nbconvert_exporter": "python",
   "pygments_lexer": "ipython3",
   "version": "3.10.9"
  }
 },
 "nbformat": 4,
 "nbformat_minor": 5
}
